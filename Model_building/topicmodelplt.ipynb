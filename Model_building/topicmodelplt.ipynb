{
 "metadata": {
  "language_info": {
   "codemirror_mode": {
    "name": "ipython",
    "version": 3
   },
   "file_extension": ".py",
   "mimetype": "text/x-python",
   "name": "python",
   "nbconvert_exporter": "python",
   "pygments_lexer": "ipython3",
   "version": "3.8.3"
  },
  "orig_nbformat": 2,
  "kernelspec": {
   "name": "python383jvsc74a57bd0f85c0ae1067a86ad6a96b144378883e79fd1516474b579ba33ee3a7084540002",
   "display_name": "Python 3.8.3 64-bit ('base': virtualenv)"
  }
 },
 "nbformat": 4,
 "nbformat_minor": 2,
 "cells": [
  {
   "cell_type": "code",
   "execution_count": 102,
   "metadata": {},
   "outputs": [],
   "source": [
    "import pandas as pd\n",
    "from sklearn.manifold import TSNE\n",
    "tsne_model = TSNE(n_components=2, verbose=1, random_state=7, angle=.99, init='pca')\n"
   ]
  },
  {
   "cell_type": "code",
   "execution_count": 103,
   "metadata": {},
   "outputs": [],
   "source": [
    "doc_topic = pd.read_csv('/Users/susanchen/Documents/Depression-or-Covid-Fatigue/data/trainingTM.csv')"
   ]
  },
  {
   "cell_type": "code",
   "execution_count": 104,
   "metadata": {},
   "outputs": [
    {
     "output_type": "stream",
     "name": "stdout",
     "text": [
      "[t-SNE] Computing 91 nearest neighbors...\n",
      "[t-SNE] Indexed 1415 samples in 0.022s...\n",
      "[t-SNE] Computed neighbors for 1415 samples in 0.112s...\n",
      "[t-SNE] Computed conditional probabilities for sample 1000 / 1415\n",
      "[t-SNE] Computed conditional probabilities for sample 1415 / 1415\n",
      "[t-SNE] Mean sigma: 0.000000\n",
      "[t-SNE] KL divergence after 250 iterations with early exaggeration: 70.905769\n",
      "[t-SNE] KL divergence after 1000 iterations: 0.742633\n"
     ]
    }
   ],
   "source": [
    "tsne_lda = tsne_model.fit_transform(doc_topic) # doc_topic is document-topic matrix from LDA or GuidedLDA "
   ]
  },
  {
   "cell_type": "code",
   "execution_count": 105,
   "metadata": {},
   "outputs": [
    {
     "output_type": "execute_result",
     "data": {
      "text/plain": [
       "        topic1    topic2    topic3    topic4    topic5    topic6    topic7  \\\n",
       "0     0.020000  0.020000  0.120000  0.020000  0.020000  0.020000  0.020000   \n",
       "1     0.150000  0.025000  0.025000  0.025000  0.025000  0.025000  0.025000   \n",
       "2     0.150000  0.025000  0.150000  0.025000  0.025000  0.025000  0.025000   \n",
       "3     0.040000  0.040000  0.040000  0.040000  0.040000  0.440000  0.040000   \n",
       "4     0.040000  0.040000  0.040000  0.040000  0.040000  0.040000  0.040000   \n",
       "...        ...       ...       ...       ...       ...       ...       ...   \n",
       "1410  0.040000  0.240000  0.240000  0.040000  0.040000  0.040000  0.040000   \n",
       "1411  0.022222  0.355556  0.022222  0.022222  0.022222  0.022222  0.022222   \n",
       "1412  0.050000  0.050000  0.050000  0.050000  0.050000  0.300000  0.050000   \n",
       "1413  0.040000  0.240000  0.040000  0.040000  0.040000  0.240000  0.040000   \n",
       "1414  0.025000  0.025000  0.025000  0.525000  0.025000  0.025000  0.025000   \n",
       "\n",
       "        topic8    topic9   topic10   topic11   topic12   topic13   topic14  \\\n",
       "0     0.020000  0.120000  0.120000  0.020000  0.320000  0.020000  0.120000   \n",
       "1     0.025000  0.025000  0.025000  0.150000  0.275000  0.025000  0.025000   \n",
       "2     0.025000  0.400000  0.025000  0.025000  0.025000  0.025000  0.025000   \n",
       "3     0.040000  0.040000  0.040000  0.040000  0.040000  0.040000  0.040000   \n",
       "4     0.040000  0.040000  0.040000  0.440000  0.040000  0.040000  0.040000   \n",
       "...        ...       ...       ...       ...       ...       ...       ...   \n",
       "1410  0.040000  0.040000  0.040000  0.040000  0.040000  0.040000  0.040000   \n",
       "1411  0.022222  0.244444  0.133333  0.022222  0.022222  0.022222  0.022222   \n",
       "1412  0.050000  0.050000  0.050000  0.050000  0.050000  0.050000  0.050000   \n",
       "1413  0.040000  0.040000  0.040000  0.040000  0.040000  0.040000  0.040000   \n",
       "1414  0.025000  0.025000  0.150000  0.025000  0.025000  0.025000  0.025000   \n",
       "\n",
       "       topic15  \n",
       "0     0.020000  \n",
       "1     0.150000  \n",
       "2     0.025000  \n",
       "3     0.040000  \n",
       "4     0.040000  \n",
       "...        ...  \n",
       "1410  0.040000  \n",
       "1411  0.022222  \n",
       "1412  0.050000  \n",
       "1413  0.040000  \n",
       "1414  0.025000  \n",
       "\n",
       "[1415 rows x 15 columns]"
      ],
      "text/html": "<div>\n<style scoped>\n    .dataframe tbody tr th:only-of-type {\n        vertical-align: middle;\n    }\n\n    .dataframe tbody tr th {\n        vertical-align: top;\n    }\n\n    .dataframe thead th {\n        text-align: right;\n    }\n</style>\n<table border=\"1\" class=\"dataframe\">\n  <thead>\n    <tr style=\"text-align: right;\">\n      <th></th>\n      <th>topic1</th>\n      <th>topic2</th>\n      <th>topic3</th>\n      <th>topic4</th>\n      <th>topic5</th>\n      <th>topic6</th>\n      <th>topic7</th>\n      <th>topic8</th>\n      <th>topic9</th>\n      <th>topic10</th>\n      <th>topic11</th>\n      <th>topic12</th>\n      <th>topic13</th>\n      <th>topic14</th>\n      <th>topic15</th>\n    </tr>\n  </thead>\n  <tbody>\n    <tr>\n      <th>0</th>\n      <td>0.020000</td>\n      <td>0.020000</td>\n      <td>0.120000</td>\n      <td>0.020000</td>\n      <td>0.020000</td>\n      <td>0.020000</td>\n      <td>0.020000</td>\n      <td>0.020000</td>\n      <td>0.120000</td>\n      <td>0.120000</td>\n      <td>0.020000</td>\n      <td>0.320000</td>\n      <td>0.020000</td>\n      <td>0.120000</td>\n      <td>0.020000</td>\n    </tr>\n    <tr>\n      <th>1</th>\n      <td>0.150000</td>\n      <td>0.025000</td>\n      <td>0.025000</td>\n      <td>0.025000</td>\n      <td>0.025000</td>\n      <td>0.025000</td>\n      <td>0.025000</td>\n      <td>0.025000</td>\n      <td>0.025000</td>\n      <td>0.025000</td>\n      <td>0.150000</td>\n      <td>0.275000</td>\n      <td>0.025000</td>\n      <td>0.025000</td>\n      <td>0.150000</td>\n    </tr>\n    <tr>\n      <th>2</th>\n      <td>0.150000</td>\n      <td>0.025000</td>\n      <td>0.150000</td>\n      <td>0.025000</td>\n      <td>0.025000</td>\n      <td>0.025000</td>\n      <td>0.025000</td>\n      <td>0.025000</td>\n      <td>0.400000</td>\n      <td>0.025000</td>\n      <td>0.025000</td>\n      <td>0.025000</td>\n      <td>0.025000</td>\n      <td>0.025000</td>\n      <td>0.025000</td>\n    </tr>\n    <tr>\n      <th>3</th>\n      <td>0.040000</td>\n      <td>0.040000</td>\n      <td>0.040000</td>\n      <td>0.040000</td>\n      <td>0.040000</td>\n      <td>0.440000</td>\n      <td>0.040000</td>\n      <td>0.040000</td>\n      <td>0.040000</td>\n      <td>0.040000</td>\n      <td>0.040000</td>\n      <td>0.040000</td>\n      <td>0.040000</td>\n      <td>0.040000</td>\n      <td>0.040000</td>\n    </tr>\n    <tr>\n      <th>4</th>\n      <td>0.040000</td>\n      <td>0.040000</td>\n      <td>0.040000</td>\n      <td>0.040000</td>\n      <td>0.040000</td>\n      <td>0.040000</td>\n      <td>0.040000</td>\n      <td>0.040000</td>\n      <td>0.040000</td>\n      <td>0.040000</td>\n      <td>0.440000</td>\n      <td>0.040000</td>\n      <td>0.040000</td>\n      <td>0.040000</td>\n      <td>0.040000</td>\n    </tr>\n    <tr>\n      <th>...</th>\n      <td>...</td>\n      <td>...</td>\n      <td>...</td>\n      <td>...</td>\n      <td>...</td>\n      <td>...</td>\n      <td>...</td>\n      <td>...</td>\n      <td>...</td>\n      <td>...</td>\n      <td>...</td>\n      <td>...</td>\n      <td>...</td>\n      <td>...</td>\n      <td>...</td>\n    </tr>\n    <tr>\n      <th>1410</th>\n      <td>0.040000</td>\n      <td>0.240000</td>\n      <td>0.240000</td>\n      <td>0.040000</td>\n      <td>0.040000</td>\n      <td>0.040000</td>\n      <td>0.040000</td>\n      <td>0.040000</td>\n      <td>0.040000</td>\n      <td>0.040000</td>\n      <td>0.040000</td>\n      <td>0.040000</td>\n      <td>0.040000</td>\n      <td>0.040000</td>\n      <td>0.040000</td>\n    </tr>\n    <tr>\n      <th>1411</th>\n      <td>0.022222</td>\n      <td>0.355556</td>\n      <td>0.022222</td>\n      <td>0.022222</td>\n      <td>0.022222</td>\n      <td>0.022222</td>\n      <td>0.022222</td>\n      <td>0.022222</td>\n      <td>0.244444</td>\n      <td>0.133333</td>\n      <td>0.022222</td>\n      <td>0.022222</td>\n      <td>0.022222</td>\n      <td>0.022222</td>\n      <td>0.022222</td>\n    </tr>\n    <tr>\n      <th>1412</th>\n      <td>0.050000</td>\n      <td>0.050000</td>\n      <td>0.050000</td>\n      <td>0.050000</td>\n      <td>0.050000</td>\n      <td>0.300000</td>\n      <td>0.050000</td>\n      <td>0.050000</td>\n      <td>0.050000</td>\n      <td>0.050000</td>\n      <td>0.050000</td>\n      <td>0.050000</td>\n      <td>0.050000</td>\n      <td>0.050000</td>\n      <td>0.050000</td>\n    </tr>\n    <tr>\n      <th>1413</th>\n      <td>0.040000</td>\n      <td>0.240000</td>\n      <td>0.040000</td>\n      <td>0.040000</td>\n      <td>0.040000</td>\n      <td>0.240000</td>\n      <td>0.040000</td>\n      <td>0.040000</td>\n      <td>0.040000</td>\n      <td>0.040000</td>\n      <td>0.040000</td>\n      <td>0.040000</td>\n      <td>0.040000</td>\n      <td>0.040000</td>\n      <td>0.040000</td>\n    </tr>\n    <tr>\n      <th>1414</th>\n      <td>0.025000</td>\n      <td>0.025000</td>\n      <td>0.025000</td>\n      <td>0.525000</td>\n      <td>0.025000</td>\n      <td>0.025000</td>\n      <td>0.025000</td>\n      <td>0.025000</td>\n      <td>0.025000</td>\n      <td>0.150000</td>\n      <td>0.025000</td>\n      <td>0.025000</td>\n      <td>0.025000</td>\n      <td>0.025000</td>\n      <td>0.025000</td>\n    </tr>\n  </tbody>\n</table>\n<p>1415 rows × 15 columns</p>\n</div>"
     },
     "metadata": {},
     "execution_count": 105
    }
   ],
   "source": [
    "doc_topic"
   ]
  },
  {
   "cell_type": "code",
   "execution_count": 106,
   "metadata": {},
   "outputs": [],
   "source": [
    "#find the maximum topic of each row\n",
    "max_topic_prob = doc_topic.max(axis=1)\n",
    "doc_topic['max_topic_prob'] = max_topic_prob"
   ]
  },
  {
   "cell_type": "code",
   "execution_count": 107,
   "metadata": {},
   "outputs": [],
   "source": [
    "# find index of max topic for each row \n",
    "doc_topic['max_topic'] = doc_topic.idxmax(axis=1)\n"
   ]
  },
  {
   "cell_type": "code",
   "execution_count": 108,
   "metadata": {},
   "outputs": [],
   "source": [
    "doc_topic['x_tsne'] = tsne_lda[:,0]\n",
    "doc_topic['y_tsne'] = tsne_lda[:,1]"
   ]
  },
  {
   "cell_type": "code",
   "execution_count": 109,
   "metadata": {},
   "outputs": [
    {
     "output_type": "execute_result",
     "data": {
      "text/plain": [
       "        topic1    topic2    topic3    topic4    topic5    topic6    topic7  \\\n",
       "0     0.020000  0.020000  0.120000  0.020000  0.020000  0.020000  0.020000   \n",
       "1     0.150000  0.025000  0.025000  0.025000  0.025000  0.025000  0.025000   \n",
       "2     0.150000  0.025000  0.150000  0.025000  0.025000  0.025000  0.025000   \n",
       "3     0.040000  0.040000  0.040000  0.040000  0.040000  0.440000  0.040000   \n",
       "4     0.040000  0.040000  0.040000  0.040000  0.040000  0.040000  0.040000   \n",
       "...        ...       ...       ...       ...       ...       ...       ...   \n",
       "1410  0.040000  0.240000  0.240000  0.040000  0.040000  0.040000  0.040000   \n",
       "1411  0.022222  0.355556  0.022222  0.022222  0.022222  0.022222  0.022222   \n",
       "1412  0.050000  0.050000  0.050000  0.050000  0.050000  0.300000  0.050000   \n",
       "1413  0.040000  0.240000  0.040000  0.040000  0.040000  0.240000  0.040000   \n",
       "1414  0.025000  0.025000  0.025000  0.525000  0.025000  0.025000  0.025000   \n",
       "\n",
       "        topic8    topic9   topic10   topic11   topic12   topic13   topic14  \\\n",
       "0     0.020000  0.120000  0.120000  0.020000  0.320000  0.020000  0.120000   \n",
       "1     0.025000  0.025000  0.025000  0.150000  0.275000  0.025000  0.025000   \n",
       "2     0.025000  0.400000  0.025000  0.025000  0.025000  0.025000  0.025000   \n",
       "3     0.040000  0.040000  0.040000  0.040000  0.040000  0.040000  0.040000   \n",
       "4     0.040000  0.040000  0.040000  0.440000  0.040000  0.040000  0.040000   \n",
       "...        ...       ...       ...       ...       ...       ...       ...   \n",
       "1410  0.040000  0.040000  0.040000  0.040000  0.040000  0.040000  0.040000   \n",
       "1411  0.022222  0.244444  0.133333  0.022222  0.022222  0.022222  0.022222   \n",
       "1412  0.050000  0.050000  0.050000  0.050000  0.050000  0.050000  0.050000   \n",
       "1413  0.040000  0.040000  0.040000  0.040000  0.040000  0.040000  0.040000   \n",
       "1414  0.025000  0.025000  0.150000  0.025000  0.025000  0.025000  0.025000   \n",
       "\n",
       "       topic15  max_topic_prob max_topic     x_tsne     y_tsne  \n",
       "0     0.020000        0.320000   topic12   8.790414  20.071453  \n",
       "1     0.150000        0.275000   topic12   7.822139  16.797714  \n",
       "2     0.025000        0.400000    topic9 -22.701334 -13.169685  \n",
       "3     0.040000        0.440000    topic6  -1.741059 -21.974630  \n",
       "4     0.040000        0.440000   topic11   9.683736 -11.329044  \n",
       "...        ...             ...       ...        ...        ...  \n",
       "1410  0.040000        0.240000    topic2  -8.707225  30.603022  \n",
       "1411  0.022222        0.355556    topic2  -4.447326  29.824562  \n",
       "1412  0.050000        0.300000    topic6  -4.764091 -18.532625  \n",
       "1413  0.040000        0.240000    topic2  -1.771665 -13.618720  \n",
       "1414  0.025000        0.525000    topic4 -21.240454  12.997532  \n",
       "\n",
       "[1415 rows x 19 columns]"
      ],
      "text/html": "<div>\n<style scoped>\n    .dataframe tbody tr th:only-of-type {\n        vertical-align: middle;\n    }\n\n    .dataframe tbody tr th {\n        vertical-align: top;\n    }\n\n    .dataframe thead th {\n        text-align: right;\n    }\n</style>\n<table border=\"1\" class=\"dataframe\">\n  <thead>\n    <tr style=\"text-align: right;\">\n      <th></th>\n      <th>topic1</th>\n      <th>topic2</th>\n      <th>topic3</th>\n      <th>topic4</th>\n      <th>topic5</th>\n      <th>topic6</th>\n      <th>topic7</th>\n      <th>topic8</th>\n      <th>topic9</th>\n      <th>topic10</th>\n      <th>topic11</th>\n      <th>topic12</th>\n      <th>topic13</th>\n      <th>topic14</th>\n      <th>topic15</th>\n      <th>max_topic_prob</th>\n      <th>max_topic</th>\n      <th>x_tsne</th>\n      <th>y_tsne</th>\n    </tr>\n  </thead>\n  <tbody>\n    <tr>\n      <th>0</th>\n      <td>0.020000</td>\n      <td>0.020000</td>\n      <td>0.120000</td>\n      <td>0.020000</td>\n      <td>0.020000</td>\n      <td>0.020000</td>\n      <td>0.020000</td>\n      <td>0.020000</td>\n      <td>0.120000</td>\n      <td>0.120000</td>\n      <td>0.020000</td>\n      <td>0.320000</td>\n      <td>0.020000</td>\n      <td>0.120000</td>\n      <td>0.020000</td>\n      <td>0.320000</td>\n      <td>topic12</td>\n      <td>8.790414</td>\n      <td>20.071453</td>\n    </tr>\n    <tr>\n      <th>1</th>\n      <td>0.150000</td>\n      <td>0.025000</td>\n      <td>0.025000</td>\n      <td>0.025000</td>\n      <td>0.025000</td>\n      <td>0.025000</td>\n      <td>0.025000</td>\n      <td>0.025000</td>\n      <td>0.025000</td>\n      <td>0.025000</td>\n      <td>0.150000</td>\n      <td>0.275000</td>\n      <td>0.025000</td>\n      <td>0.025000</td>\n      <td>0.150000</td>\n      <td>0.275000</td>\n      <td>topic12</td>\n      <td>7.822139</td>\n      <td>16.797714</td>\n    </tr>\n    <tr>\n      <th>2</th>\n      <td>0.150000</td>\n      <td>0.025000</td>\n      <td>0.150000</td>\n      <td>0.025000</td>\n      <td>0.025000</td>\n      <td>0.025000</td>\n      <td>0.025000</td>\n      <td>0.025000</td>\n      <td>0.400000</td>\n      <td>0.025000</td>\n      <td>0.025000</td>\n      <td>0.025000</td>\n      <td>0.025000</td>\n      <td>0.025000</td>\n      <td>0.025000</td>\n      <td>0.400000</td>\n      <td>topic9</td>\n      <td>-22.701334</td>\n      <td>-13.169685</td>\n    </tr>\n    <tr>\n      <th>3</th>\n      <td>0.040000</td>\n      <td>0.040000</td>\n      <td>0.040000</td>\n      <td>0.040000</td>\n      <td>0.040000</td>\n      <td>0.440000</td>\n      <td>0.040000</td>\n      <td>0.040000</td>\n      <td>0.040000</td>\n      <td>0.040000</td>\n      <td>0.040000</td>\n      <td>0.040000</td>\n      <td>0.040000</td>\n      <td>0.040000</td>\n      <td>0.040000</td>\n      <td>0.440000</td>\n      <td>topic6</td>\n      <td>-1.741059</td>\n      <td>-21.974630</td>\n    </tr>\n    <tr>\n      <th>4</th>\n      <td>0.040000</td>\n      <td>0.040000</td>\n      <td>0.040000</td>\n      <td>0.040000</td>\n      <td>0.040000</td>\n      <td>0.040000</td>\n      <td>0.040000</td>\n      <td>0.040000</td>\n      <td>0.040000</td>\n      <td>0.040000</td>\n      <td>0.440000</td>\n      <td>0.040000</td>\n      <td>0.040000</td>\n      <td>0.040000</td>\n      <td>0.040000</td>\n      <td>0.440000</td>\n      <td>topic11</td>\n      <td>9.683736</td>\n      <td>-11.329044</td>\n    </tr>\n    <tr>\n      <th>...</th>\n      <td>...</td>\n      <td>...</td>\n      <td>...</td>\n      <td>...</td>\n      <td>...</td>\n      <td>...</td>\n      <td>...</td>\n      <td>...</td>\n      <td>...</td>\n      <td>...</td>\n      <td>...</td>\n      <td>...</td>\n      <td>...</td>\n      <td>...</td>\n      <td>...</td>\n      <td>...</td>\n      <td>...</td>\n      <td>...</td>\n      <td>...</td>\n    </tr>\n    <tr>\n      <th>1410</th>\n      <td>0.040000</td>\n      <td>0.240000</td>\n      <td>0.240000</td>\n      <td>0.040000</td>\n      <td>0.040000</td>\n      <td>0.040000</td>\n      <td>0.040000</td>\n      <td>0.040000</td>\n      <td>0.040000</td>\n      <td>0.040000</td>\n      <td>0.040000</td>\n      <td>0.040000</td>\n      <td>0.040000</td>\n      <td>0.040000</td>\n      <td>0.040000</td>\n      <td>0.240000</td>\n      <td>topic2</td>\n      <td>-8.707225</td>\n      <td>30.603022</td>\n    </tr>\n    <tr>\n      <th>1411</th>\n      <td>0.022222</td>\n      <td>0.355556</td>\n      <td>0.022222</td>\n      <td>0.022222</td>\n      <td>0.022222</td>\n      <td>0.022222</td>\n      <td>0.022222</td>\n      <td>0.022222</td>\n      <td>0.244444</td>\n      <td>0.133333</td>\n      <td>0.022222</td>\n      <td>0.022222</td>\n      <td>0.022222</td>\n      <td>0.022222</td>\n      <td>0.022222</td>\n      <td>0.355556</td>\n      <td>topic2</td>\n      <td>-4.447326</td>\n      <td>29.824562</td>\n    </tr>\n    <tr>\n      <th>1412</th>\n      <td>0.050000</td>\n      <td>0.050000</td>\n      <td>0.050000</td>\n      <td>0.050000</td>\n      <td>0.050000</td>\n      <td>0.300000</td>\n      <td>0.050000</td>\n      <td>0.050000</td>\n      <td>0.050000</td>\n      <td>0.050000</td>\n      <td>0.050000</td>\n      <td>0.050000</td>\n      <td>0.050000</td>\n      <td>0.050000</td>\n      <td>0.050000</td>\n      <td>0.300000</td>\n      <td>topic6</td>\n      <td>-4.764091</td>\n      <td>-18.532625</td>\n    </tr>\n    <tr>\n      <th>1413</th>\n      <td>0.040000</td>\n      <td>0.240000</td>\n      <td>0.040000</td>\n      <td>0.040000</td>\n      <td>0.040000</td>\n      <td>0.240000</td>\n      <td>0.040000</td>\n      <td>0.040000</td>\n      <td>0.040000</td>\n      <td>0.040000</td>\n      <td>0.040000</td>\n      <td>0.040000</td>\n      <td>0.040000</td>\n      <td>0.040000</td>\n      <td>0.040000</td>\n      <td>0.240000</td>\n      <td>topic2</td>\n      <td>-1.771665</td>\n      <td>-13.618720</td>\n    </tr>\n    <tr>\n      <th>1414</th>\n      <td>0.025000</td>\n      <td>0.025000</td>\n      <td>0.025000</td>\n      <td>0.525000</td>\n      <td>0.025000</td>\n      <td>0.025000</td>\n      <td>0.025000</td>\n      <td>0.025000</td>\n      <td>0.025000</td>\n      <td>0.150000</td>\n      <td>0.025000</td>\n      <td>0.025000</td>\n      <td>0.025000</td>\n      <td>0.025000</td>\n      <td>0.025000</td>\n      <td>0.525000</td>\n      <td>topic4</td>\n      <td>-21.240454</td>\n      <td>12.997532</td>\n    </tr>\n  </tbody>\n</table>\n<p>1415 rows × 19 columns</p>\n</div>"
     },
     "metadata": {},
     "execution_count": 109
    }
   ],
   "source": [
    "doc_topic"
   ]
  },
  {
   "cell_type": "code",
   "execution_count": 110,
   "metadata": {},
   "outputs": [],
   "source": [
    "doc_topic.to_csv('/Users/susanchen/Documents/Depression-or-Covid-Fatigue/data/trainingTM.csv')"
   ]
  },
  {
   "cell_type": "code",
   "execution_count": null,
   "metadata": {},
   "outputs": [],
   "source": []
  }
 ]
}